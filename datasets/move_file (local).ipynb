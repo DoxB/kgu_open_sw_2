{
 "cells": [
  {
   "cell_type": "code",
   "execution_count": 1,
   "id": "605a0d4b",
   "metadata": {},
   "outputs": [],
   "source": [
    "# 사진파일 통합"
   ]
  },
  {
   "cell_type": "code",
   "execution_count": 2,
   "id": "08c26cb4",
   "metadata": {},
   "outputs": [],
   "source": [
    "from shutil import copyfile\n",
    "from glob import glob\n",
    "from tqdm import tqdm\n",
    "import os"
   ]
  },
  {
   "cell_type": "code",
   "execution_count": 3,
   "id": "d0d1764a",
   "metadata": {},
   "outputs": [],
   "source": [
    "def movefile(filepath, movepath):\n",
    "    copyfile(filepath, movepath)"
   ]
  },
  {
   "cell_type": "code",
   "execution_count": 6,
   "id": "46474780",
   "metadata": {},
   "outputs": [],
   "source": [
    "train_paths = glob(os.path.join('fashion', 'train', '*', 'images','*.jpg'))\n",
    "test_paths = glob(os.path.join('fashion', 'test', '*', 'images','*.jpg'))\n",
    "val_paths = glob(os.path.join('fashion', 'val', '*', 'images','*.jpg'))"
   ]
  },
  {
   "cell_type": "code",
   "execution_count": 7,
   "id": "2b4131eb",
   "metadata": {
    "scrolled": true
   },
   "outputs": [
    {
     "name": "stdout",
     "output_type": "stream",
     "text": [
      "4765 584 577\n"
     ]
    }
   ],
   "source": [
    "print(len(train_paths), len(test_paths), len(val_paths))"
   ]
  },
  {
   "cell_type": "code",
   "execution_count": 8,
   "id": "6ba80380",
   "metadata": {},
   "outputs": [],
   "source": [
    "train_rename = ['train\\\\' + train_path.split('\\\\')[-1] for train_path in train_paths]\n",
    "test_rename = ['test\\\\' + test_path.split('\\\\')[-1] for test_path in test_paths]\n",
    "val_rename = ['val\\\\' + val_path.split('\\\\')[-1] for val_path in val_paths]"
   ]
  },
  {
   "cell_type": "code",
   "execution_count": 9,
   "id": "c79e463e",
   "metadata": {},
   "outputs": [
    {
     "name": "stdout",
     "output_type": "stream",
     "text": [
      "4765 584 577\n"
     ]
    }
   ],
   "source": [
    "print(len(train_rename), len(test_rename), len(val_rename))"
   ]
  },
  {
   "cell_type": "code",
   "execution_count": 10,
   "id": "e27a8ccb",
   "metadata": {},
   "outputs": [
    {
     "name": "stderr",
     "output_type": "stream",
     "text": [
      "100%|█████████████████████████████████████████████████████████████████████████████| 4765/4765 [00:05<00:00, 847.26it/s]\n"
     ]
    }
   ],
   "source": [
    "for i in tqdm(range(len(train_paths))):\n",
    "    movefile(train_paths[i], train_rename[i])"
   ]
  },
  {
   "cell_type": "code",
   "execution_count": 11,
   "id": "709ae3a9",
   "metadata": {},
   "outputs": [
    {
     "name": "stderr",
     "output_type": "stream",
     "text": [
      "100%|███████████████████████████████████████████████████████████████████████████████| 584/584 [00:01<00:00, 411.71it/s]\n"
     ]
    }
   ],
   "source": [
    "for i in tqdm(range(len(test_paths))):\n",
    "    movefile(test_paths[i], test_rename[i])"
   ]
  },
  {
   "cell_type": "code",
   "execution_count": 12,
   "id": "6f5685e9",
   "metadata": {},
   "outputs": [
    {
     "name": "stderr",
     "output_type": "stream",
     "text": [
      "100%|███████████████████████████████████████████████████████████████████████████████| 577/577 [00:01<00:00, 370.81it/s]\n"
     ]
    }
   ],
   "source": [
    "for i in tqdm(range(len(val_paths))):\n",
    "    movefile(val_paths[i], val_rename[i])"
   ]
  },
  {
   "cell_type": "code",
   "execution_count": 13,
   "id": "84921f33",
   "metadata": {},
   "outputs": [],
   "source": [
    "# 어노테이션 통합"
   ]
  },
  {
   "cell_type": "code",
   "execution_count": 14,
   "id": "d19f60a8",
   "metadata": {},
   "outputs": [],
   "source": [
    "train_json_paths = glob(os.path.join('fashion', 'train', '*', 'annotations','*.json'))\n",
    "test_json_paths = glob(os.path.join('fashion', 'test', '*', 'annotations','*.json'))\n",
    "val_json_paths = glob(os.path.join('fashion', 'val', '*', 'annotations','*.json'))"
   ]
  },
  {
   "cell_type": "code",
   "execution_count": 15,
   "id": "0133e9c2",
   "metadata": {
    "scrolled": true
   },
   "outputs": [
    {
     "name": "stdout",
     "output_type": "stream",
     "text": [
      "22 12 12\n"
     ]
    }
   ],
   "source": [
    "print(len(train_json_paths), len(test_json_paths), len(val_json_paths))"
   ]
  },
  {
   "cell_type": "code",
   "execution_count": 16,
   "id": "8b30b7e3",
   "metadata": {
    "scrolled": true
   },
   "outputs": [],
   "source": [
    "train_json_rename = ['train_json\\\\' + train_json_path.split('\\\\')[-1] for train_json_path in train_json_paths]\n",
    "test_json_rename = ['test_json\\\\' + test_json_path.split('\\\\')[-1] for test_json_path in test_json_paths]\n",
    "val_json_rename = ['val_json\\\\' + val_json_path.split('\\\\')[-1] for val_json_path in val_json_paths]"
   ]
  },
  {
   "cell_type": "code",
   "execution_count": 17,
   "id": "df40490a",
   "metadata": {},
   "outputs": [
    {
     "name": "stdout",
     "output_type": "stream",
     "text": [
      "22 12 12\n"
     ]
    }
   ],
   "source": [
    "print(len(train_json_rename), len(test_json_rename), len(val_json_rename))"
   ]
  },
  {
   "cell_type": "code",
   "execution_count": 18,
   "id": "871e1d7f",
   "metadata": {},
   "outputs": [
    {
     "name": "stderr",
     "output_type": "stream",
     "text": [
      "100%|█████████████████████████████████████████████████████████████████████████████████| 22/22 [00:00<00:00, 129.69it/s]\n"
     ]
    }
   ],
   "source": [
    "for i in tqdm(range(len(train_json_paths))):\n",
    "    movefile(train_json_paths[i], train_json_rename[i])"
   ]
  },
  {
   "cell_type": "code",
   "execution_count": 19,
   "id": "e819a069",
   "metadata": {
    "scrolled": true
   },
   "outputs": [
    {
     "name": "stderr",
     "output_type": "stream",
     "text": [
      "100%|█████████████████████████████████████████████████████████████████████████████████| 12/12 [00:00<00:00, 267.57it/s]\n"
     ]
    }
   ],
   "source": [
    "for i in tqdm(range(len(test_json_paths))):\n",
    "    movefile(test_json_paths[i], test_json_rename[i])"
   ]
  },
  {
   "cell_type": "code",
   "execution_count": 20,
   "id": "4473fd6f",
   "metadata": {},
   "outputs": [
    {
     "name": "stderr",
     "output_type": "stream",
     "text": [
      "100%|█████████████████████████████████████████████████████████████████████████████████| 12/12 [00:00<00:00, 315.79it/s]\n"
     ]
    }
   ],
   "source": [
    "for i in tqdm(range(len(test_json_paths))):\n",
    "    movefile(val_json_paths[i], val_json_rename[i])"
   ]
  }
 ],
 "metadata": {
  "kernelspec": {
   "display_name": "Python 3 (ipykernel)",
   "language": "python",
   "name": "python3"
  },
  "language_info": {
   "codemirror_mode": {
    "name": "ipython",
    "version": 3
   },
   "file_extension": ".py",
   "mimetype": "text/x-python",
   "name": "python",
   "nbconvert_exporter": "python",
   "pygments_lexer": "ipython3",
   "version": "3.9.12"
  }
 },
 "nbformat": 4,
 "nbformat_minor": 5
}
